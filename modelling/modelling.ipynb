{
 "cells": [
  {
   "cell_type": "code",
   "execution_count": 33,
   "id": "ff8ce84e",
   "metadata": {},
   "outputs": [],
   "source": [
    "#hiding all warnings\n",
    "import warnings\n",
    "warnings.filterwarnings('ignore')\n",
    "#importing libraries\n",
    "import pandas as pd\n",
    "import numpy as np\n",
    "import matplotlib.pyplot as plt\n",
    "import seaborn as sns"
   ]
  },
  {
   "cell_type": "code",
   "execution_count": 2,
   "id": "3e681ebe",
   "metadata": {},
   "outputs": [
    {
     "data": {
      "text/html": [
       "<div>\n",
       "<style scoped>\n",
       "    .dataframe tbody tr th:only-of-type {\n",
       "        vertical-align: middle;\n",
       "    }\n",
       "\n",
       "    .dataframe tbody tr th {\n",
       "        vertical-align: top;\n",
       "    }\n",
       "\n",
       "    .dataframe thead th {\n",
       "        text-align: right;\n",
       "    }\n",
       "</style>\n",
       "<table border=\"1\" class=\"dataframe\">\n",
       "  <thead>\n",
       "    <tr style=\"text-align: right;\">\n",
       "      <th></th>\n",
       "      <th>Unnamed: 0</th>\n",
       "      <th>make</th>\n",
       "      <th>type</th>\n",
       "      <th>year</th>\n",
       "      <th>engine</th>\n",
       "      <th>mileage</th>\n",
       "      <th>price_in_azn</th>\n",
       "    </tr>\n",
       "  </thead>\n",
       "  <tbody>\n",
       "    <tr>\n",
       "      <th>0</th>\n",
       "      <td>0</td>\n",
       "      <td>Peugeot</td>\n",
       "      <td>Partner</td>\n",
       "      <td>2022</td>\n",
       "      <td>1.5</td>\n",
       "      <td>0.0</td>\n",
       "      <td>40000.0</td>\n",
       "    </tr>\n",
       "    <tr>\n",
       "      <th>1</th>\n",
       "      <td>1</td>\n",
       "      <td>Opel</td>\n",
       "      <td>Astra</td>\n",
       "      <td>2009</td>\n",
       "      <td>1.4</td>\n",
       "      <td>257000.0</td>\n",
       "      <td>9000.0</td>\n",
       "    </tr>\n",
       "    <tr>\n",
       "      <th>2</th>\n",
       "      <td>2</td>\n",
       "      <td>Mercedes</td>\n",
       "      <td>S 350</td>\n",
       "      <td>2014</td>\n",
       "      <td>3.0</td>\n",
       "      <td>150000.0</td>\n",
       "      <td>103700.0</td>\n",
       "    </tr>\n",
       "    <tr>\n",
       "      <th>3</th>\n",
       "      <td>3</td>\n",
       "      <td>Fiat</td>\n",
       "      <td>Doblo</td>\n",
       "      <td>2022</td>\n",
       "      <td>1.4</td>\n",
       "      <td>0.0</td>\n",
       "      <td>45800.0</td>\n",
       "    </tr>\n",
       "    <tr>\n",
       "      <th>4</th>\n",
       "      <td>4</td>\n",
       "      <td>Kia</td>\n",
       "      <td>Optima</td>\n",
       "      <td>2014</td>\n",
       "      <td>2.0</td>\n",
       "      <td>215000.0</td>\n",
       "      <td>29900.0</td>\n",
       "    </tr>\n",
       "    <tr>\n",
       "      <th>...</th>\n",
       "      <td>...</td>\n",
       "      <td>...</td>\n",
       "      <td>...</td>\n",
       "      <td>...</td>\n",
       "      <td>...</td>\n",
       "      <td>...</td>\n",
       "      <td>...</td>\n",
       "    </tr>\n",
       "    <tr>\n",
       "      <th>14971</th>\n",
       "      <td>14971</td>\n",
       "      <td>LADA</td>\n",
       "      <td>(VAZ) 2107</td>\n",
       "      <td>2007</td>\n",
       "      <td>1.6</td>\n",
       "      <td>55000.0</td>\n",
       "      <td>6200.0</td>\n",
       "    </tr>\n",
       "    <tr>\n",
       "      <th>14972</th>\n",
       "      <td>14972</td>\n",
       "      <td>Mercedes</td>\n",
       "      <td>Sprinter 311</td>\n",
       "      <td>2008</td>\n",
       "      <td>2.2</td>\n",
       "      <td>198000.0</td>\n",
       "      <td>25400.0</td>\n",
       "    </tr>\n",
       "    <tr>\n",
       "      <th>14973</th>\n",
       "      <td>14973</td>\n",
       "      <td>Mercedes</td>\n",
       "      <td>ML 250</td>\n",
       "      <td>2014</td>\n",
       "      <td>2.1</td>\n",
       "      <td>56000.0</td>\n",
       "      <td>59542.0</td>\n",
       "    </tr>\n",
       "    <tr>\n",
       "      <th>14974</th>\n",
       "      <td>14974</td>\n",
       "      <td>Mercedes</td>\n",
       "      <td>C 240</td>\n",
       "      <td>1999</td>\n",
       "      <td>2.4</td>\n",
       "      <td>187600.0</td>\n",
       "      <td>15300.0</td>\n",
       "    </tr>\n",
       "    <tr>\n",
       "      <th>14975</th>\n",
       "      <td>14975</td>\n",
       "      <td>Hyundai</td>\n",
       "      <td>H-1</td>\n",
       "      <td>2012</td>\n",
       "      <td>2.5</td>\n",
       "      <td>210000.0</td>\n",
       "      <td>23542.0</td>\n",
       "    </tr>\n",
       "  </tbody>\n",
       "</table>\n",
       "<p>14976 rows × 7 columns</p>\n",
       "</div>"
      ],
      "text/plain": [
       "       Unnamed: 0      make           type  year  engine   mileage  \\\n",
       "0               0   Peugeot        Partner  2022     1.5       0.0   \n",
       "1               1      Opel          Astra  2009     1.4  257000.0   \n",
       "2               2  Mercedes          S 350  2014     3.0  150000.0   \n",
       "3               3      Fiat          Doblo  2022     1.4       0.0   \n",
       "4               4       Kia         Optima  2014     2.0  215000.0   \n",
       "...           ...       ...            ...   ...     ...       ...   \n",
       "14971       14971      LADA     (VAZ) 2107  2007     1.6   55000.0   \n",
       "14972       14972  Mercedes   Sprinter 311  2008     2.2  198000.0   \n",
       "14973       14973  Mercedes         ML 250  2014     2.1   56000.0   \n",
       "14974       14974  Mercedes          C 240  1999     2.4  187600.0   \n",
       "14975       14975   Hyundai            H-1  2012     2.5  210000.0   \n",
       "\n",
       "       price_in_azn  \n",
       "0           40000.0  \n",
       "1            9000.0  \n",
       "2          103700.0  \n",
       "3           45800.0  \n",
       "4           29900.0  \n",
       "...             ...  \n",
       "14971        6200.0  \n",
       "14972       25400.0  \n",
       "14973       59542.0  \n",
       "14974       15300.0  \n",
       "14975       23542.0  \n",
       "\n",
       "[14976 rows x 7 columns]"
      ]
     },
     "execution_count": 2,
     "metadata": {},
     "output_type": "execute_result"
    }
   ],
   "source": [
    "df = pd.read_csv('final_data.csv')\n",
    "df"
   ]
  },
  {
   "cell_type": "markdown",
   "id": "c2e29233",
   "metadata": {},
   "source": [
    "# Data Understanting and Preperation for Modelling"
   ]
  },
  {
   "cell_type": "code",
   "execution_count": 3,
   "id": "ccf5a284",
   "metadata": {},
   "outputs": [
    {
     "data": {
      "text/plain": [
       "Index(['Unnamed: 0', 'make', 'type', 'year', 'engine', 'mileage',\n",
       "       'price_in_azn'],\n",
       "      dtype='object')"
      ]
     },
     "execution_count": 3,
     "metadata": {},
     "output_type": "execute_result"
    }
   ],
   "source": [
    "df.columns"
   ]
  },
  {
   "cell_type": "code",
   "execution_count": 4,
   "id": "e74c2fed",
   "metadata": {},
   "outputs": [],
   "source": [
    "df.drop('Unnamed: 0', axis=1, inplace=True)"
   ]
  },
  {
   "cell_type": "code",
   "execution_count": 20,
   "id": "e9011371",
   "metadata": {},
   "outputs": [
    {
     "data": {
      "text/plain": [
       "Mercedes    2295\n",
       "Toyota      1566\n",
       "Hyundai     1540\n",
       "Kia         1279\n",
       "BMW         1216\n",
       "            ... \n",
       "Aston          1\n",
       "Mack           1\n",
       "Bull           1\n",
       "CFMOTO         1\n",
       "Lincoln        1\n",
       "Name: make, Length: 122, dtype: int64"
      ]
     },
     "execution_count": 20,
     "metadata": {},
     "output_type": "execute_result"
    }
   ],
   "source": [
    "df['make'].value_counts()"
   ]
  },
  {
   "cell_type": "code",
   "execution_count": 7,
   "id": "8d6d5575",
   "metadata": {},
   "outputs": [
    {
     "data": {
      "text/plain": [
       " Sorento              402\n",
       " Astra                379\n",
       " Santa Fe             370\n",
       " Rover Range Rover    340\n",
       " (VAZ) 2107           307\n",
       "                     ... \n",
       " 131                    1\n",
       " 814 D                  1\n",
       " Ege 50                 1\n",
       " 469                    1\n",
       " Aviator                1\n",
       "Name: type, Length: 981, dtype: int64"
      ]
     },
     "execution_count": 7,
     "metadata": {},
     "output_type": "execute_result"
    }
   ],
   "source": [
    "df['type'].value_counts()"
   ]
  },
  {
   "cell_type": "code",
   "execution_count": 19,
   "id": "a562f1ba",
   "metadata": {},
   "outputs": [
    {
     "data": {
      "text/html": [
       "<div>\n",
       "<style scoped>\n",
       "    .dataframe tbody tr th:only-of-type {\n",
       "        vertical-align: middle;\n",
       "    }\n",
       "\n",
       "    .dataframe tbody tr th {\n",
       "        vertical-align: top;\n",
       "    }\n",
       "\n",
       "    .dataframe thead th {\n",
       "        text-align: right;\n",
       "    }\n",
       "</style>\n",
       "<table border=\"1\" class=\"dataframe\">\n",
       "  <thead>\n",
       "    <tr style=\"text-align: right;\">\n",
       "      <th></th>\n",
       "      <th>make</th>\n",
       "      <th>type</th>\n",
       "      <th>year</th>\n",
       "      <th>engine</th>\n",
       "      <th>mileage</th>\n",
       "      <th>price_in_azn</th>\n",
       "    </tr>\n",
       "  </thead>\n",
       "  <tbody>\n",
       "    <tr>\n",
       "      <th>36</th>\n",
       "      <td>Land</td>\n",
       "      <td>Rover Range Rover</td>\n",
       "      <td>2022</td>\n",
       "      <td>3.0</td>\n",
       "      <td>0.0</td>\n",
       "      <td>419900.0</td>\n",
       "    </tr>\n",
       "    <tr>\n",
       "      <th>41</th>\n",
       "      <td>Land</td>\n",
       "      <td>Rover Range Rover</td>\n",
       "      <td>2018</td>\n",
       "      <td>3.0</td>\n",
       "      <td>60000.0</td>\n",
       "      <td>150450.0</td>\n",
       "    </tr>\n",
       "    <tr>\n",
       "      <th>99</th>\n",
       "      <td>Land</td>\n",
       "      <td>Rover Range Rover</td>\n",
       "      <td>2019</td>\n",
       "      <td>3.0</td>\n",
       "      <td>33500.0</td>\n",
       "      <td>235450.0</td>\n",
       "    </tr>\n",
       "    <tr>\n",
       "      <th>116</th>\n",
       "      <td>Land</td>\n",
       "      <td>Rover Range Rover</td>\n",
       "      <td>2014</td>\n",
       "      <td>3.0</td>\n",
       "      <td>194000.0</td>\n",
       "      <td>104550.0</td>\n",
       "    </tr>\n",
       "    <tr>\n",
       "      <th>188</th>\n",
       "      <td>Land</td>\n",
       "      <td>Rover Range Rover</td>\n",
       "      <td>2013</td>\n",
       "      <td>3.0</td>\n",
       "      <td>173000.0</td>\n",
       "      <td>93500.0</td>\n",
       "    </tr>\n",
       "    <tr>\n",
       "      <th>...</th>\n",
       "      <td>...</td>\n",
       "      <td>...</td>\n",
       "      <td>...</td>\n",
       "      <td>...</td>\n",
       "      <td>...</td>\n",
       "      <td>...</td>\n",
       "    </tr>\n",
       "    <tr>\n",
       "      <th>14699</th>\n",
       "      <td>Land</td>\n",
       "      <td>Rover Range Rover</td>\n",
       "      <td>2014</td>\n",
       "      <td>5.0</td>\n",
       "      <td>77000.0</td>\n",
       "      <td>119000.0</td>\n",
       "    </tr>\n",
       "    <tr>\n",
       "      <th>14720</th>\n",
       "      <td>Land</td>\n",
       "      <td>Rover Range Rover</td>\n",
       "      <td>2019</td>\n",
       "      <td>3.0</td>\n",
       "      <td>51000.0</td>\n",
       "      <td>190400.0</td>\n",
       "    </tr>\n",
       "    <tr>\n",
       "      <th>14755</th>\n",
       "      <td>Land</td>\n",
       "      <td>Rover Range Rover</td>\n",
       "      <td>2015</td>\n",
       "      <td>3.0</td>\n",
       "      <td>125000.0</td>\n",
       "      <td>102850.0</td>\n",
       "    </tr>\n",
       "    <tr>\n",
       "      <th>14836</th>\n",
       "      <td>Land</td>\n",
       "      <td>Rover Range Rover</td>\n",
       "      <td>2020</td>\n",
       "      <td>3.0</td>\n",
       "      <td>31500.0</td>\n",
       "      <td>224400.0</td>\n",
       "    </tr>\n",
       "    <tr>\n",
       "      <th>14945</th>\n",
       "      <td>Land</td>\n",
       "      <td>Rover Range Rover</td>\n",
       "      <td>2020</td>\n",
       "      <td>2.0</td>\n",
       "      <td>35300.0</td>\n",
       "      <td>204000.0</td>\n",
       "    </tr>\n",
       "  </tbody>\n",
       "</table>\n",
       "<p>340 rows × 6 columns</p>\n",
       "</div>"
      ],
      "text/plain": [
       "       make                type  year  engine   mileage  price_in_azn\n",
       "36     Land   Rover Range Rover  2022     3.0       0.0      419900.0\n",
       "41     Land   Rover Range Rover  2018     3.0   60000.0      150450.0\n",
       "99     Land   Rover Range Rover  2019     3.0   33500.0      235450.0\n",
       "116    Land   Rover Range Rover  2014     3.0  194000.0      104550.0\n",
       "188    Land   Rover Range Rover  2013     3.0  173000.0       93500.0\n",
       "...     ...                 ...   ...     ...       ...           ...\n",
       "14699  Land   Rover Range Rover  2014     5.0   77000.0      119000.0\n",
       "14720  Land   Rover Range Rover  2019     3.0   51000.0      190400.0\n",
       "14755  Land   Rover Range Rover  2015     3.0  125000.0      102850.0\n",
       "14836  Land   Rover Range Rover  2020     3.0   31500.0      224400.0\n",
       "14945  Land   Rover Range Rover  2020     2.0   35300.0      204000.0\n",
       "\n",
       "[340 rows x 6 columns]"
      ]
     },
     "execution_count": 19,
     "metadata": {},
     "output_type": "execute_result"
    }
   ],
   "source": [
    "df[df['type']==' Rover Range Rover']"
   ]
  },
  {
   "cell_type": "code",
   "execution_count": 24,
   "id": "103a613a",
   "metadata": {},
   "outputs": [],
   "source": [
    "df['make'] = df['make'].replace({'Land':'Land Rover'})\n",
    "df['type'] = df['type'].replace({' Rover Range Rover':' Range Rover'})"
   ]
  },
  {
   "cell_type": "code",
   "execution_count": 30,
   "id": "f662f23c",
   "metadata": {},
   "outputs": [
    {
     "data": {
      "text/html": [
       "<div>\n",
       "<style scoped>\n",
       "    .dataframe tbody tr th:only-of-type {\n",
       "        vertical-align: middle;\n",
       "    }\n",
       "\n",
       "    .dataframe tbody tr th {\n",
       "        vertical-align: top;\n",
       "    }\n",
       "\n",
       "    .dataframe thead th {\n",
       "        text-align: right;\n",
       "    }\n",
       "</style>\n",
       "<table border=\"1\" class=\"dataframe\">\n",
       "  <thead>\n",
       "    <tr style=\"text-align: right;\">\n",
       "      <th></th>\n",
       "      <th>make</th>\n",
       "      <th>type</th>\n",
       "      <th>year</th>\n",
       "      <th>engine</th>\n",
       "      <th>mileage</th>\n",
       "      <th>price_in_azn</th>\n",
       "    </tr>\n",
       "  </thead>\n",
       "  <tbody>\n",
       "    <tr>\n",
       "      <th>36</th>\n",
       "      <td>Land Rover</td>\n",
       "      <td>Range Rover</td>\n",
       "      <td>2022</td>\n",
       "      <td>3.0</td>\n",
       "      <td>0.0</td>\n",
       "      <td>419900.0</td>\n",
       "    </tr>\n",
       "    <tr>\n",
       "      <th>41</th>\n",
       "      <td>Land Rover</td>\n",
       "      <td>Range Rover</td>\n",
       "      <td>2018</td>\n",
       "      <td>3.0</td>\n",
       "      <td>60000.0</td>\n",
       "      <td>150450.0</td>\n",
       "    </tr>\n",
       "    <tr>\n",
       "      <th>99</th>\n",
       "      <td>Land Rover</td>\n",
       "      <td>Range Rover</td>\n",
       "      <td>2019</td>\n",
       "      <td>3.0</td>\n",
       "      <td>33500.0</td>\n",
       "      <td>235450.0</td>\n",
       "    </tr>\n",
       "    <tr>\n",
       "      <th>109</th>\n",
       "      <td>Land Rover</td>\n",
       "      <td>Rover Defender</td>\n",
       "      <td>2023</td>\n",
       "      <td>3.0</td>\n",
       "      <td>0.0</td>\n",
       "      <td>276250.0</td>\n",
       "    </tr>\n",
       "    <tr>\n",
       "      <th>116</th>\n",
       "      <td>Land Rover</td>\n",
       "      <td>Range Rover</td>\n",
       "      <td>2014</td>\n",
       "      <td>3.0</td>\n",
       "      <td>194000.0</td>\n",
       "      <td>104550.0</td>\n",
       "    </tr>\n",
       "    <tr>\n",
       "      <th>...</th>\n",
       "      <td>...</td>\n",
       "      <td>...</td>\n",
       "      <td>...</td>\n",
       "      <td>...</td>\n",
       "      <td>...</td>\n",
       "      <td>...</td>\n",
       "    </tr>\n",
       "    <tr>\n",
       "      <th>14901</th>\n",
       "      <td>Land Rover</td>\n",
       "      <td>Rover Defender</td>\n",
       "      <td>2022</td>\n",
       "      <td>3.0</td>\n",
       "      <td>0.0</td>\n",
       "      <td>279650.0</td>\n",
       "    </tr>\n",
       "    <tr>\n",
       "      <th>14903</th>\n",
       "      <td>Land Rover</td>\n",
       "      <td>Rover Defender</td>\n",
       "      <td>2022</td>\n",
       "      <td>3.0</td>\n",
       "      <td>0.0</td>\n",
       "      <td>285600.0</td>\n",
       "    </tr>\n",
       "    <tr>\n",
       "      <th>14914</th>\n",
       "      <td>Land Rover</td>\n",
       "      <td>Rover RR Sport</td>\n",
       "      <td>2015</td>\n",
       "      <td>3.0</td>\n",
       "      <td>79000.0</td>\n",
       "      <td>79050.0</td>\n",
       "    </tr>\n",
       "    <tr>\n",
       "      <th>14945</th>\n",
       "      <td>Land Rover</td>\n",
       "      <td>Range Rover</td>\n",
       "      <td>2020</td>\n",
       "      <td>2.0</td>\n",
       "      <td>35300.0</td>\n",
       "      <td>204000.0</td>\n",
       "    </tr>\n",
       "    <tr>\n",
       "      <th>14948</th>\n",
       "      <td>Land Rover</td>\n",
       "      <td>Rover RR Evoque</td>\n",
       "      <td>2012</td>\n",
       "      <td>2.0</td>\n",
       "      <td>77000.0</td>\n",
       "      <td>44200.0</td>\n",
       "    </tr>\n",
       "  </tbody>\n",
       "</table>\n",
       "<p>669 rows × 6 columns</p>\n",
       "</div>"
      ],
      "text/plain": [
       "             make              type  year  engine   mileage  price_in_azn\n",
       "36     Land Rover       Range Rover  2022     3.0       0.0      419900.0\n",
       "41     Land Rover       Range Rover  2018     3.0   60000.0      150450.0\n",
       "99     Land Rover       Range Rover  2019     3.0   33500.0      235450.0\n",
       "109    Land Rover    Rover Defender  2023     3.0       0.0      276250.0\n",
       "116    Land Rover       Range Rover  2014     3.0  194000.0      104550.0\n",
       "...           ...               ...   ...     ...       ...           ...\n",
       "14901  Land Rover    Rover Defender  2022     3.0       0.0      279650.0\n",
       "14903  Land Rover    Rover Defender  2022     3.0       0.0      285600.0\n",
       "14914  Land Rover    Rover RR Sport  2015     3.0   79000.0       79050.0\n",
       "14945  Land Rover       Range Rover  2020     2.0   35300.0      204000.0\n",
       "14948  Land Rover   Rover RR Evoque  2012     2.0   77000.0       44200.0\n",
       "\n",
       "[669 rows x 6 columns]"
      ]
     },
     "execution_count": 30,
     "metadata": {},
     "output_type": "execute_result"
    }
   ],
   "source": [
    "df[df['make']=='Land Rover']"
   ]
  },
  {
   "cell_type": "code",
   "execution_count": 31,
   "id": "91d4f4ed",
   "metadata": {},
   "outputs": [
    {
     "data": {
      "text/html": [
       "<div>\n",
       "<style scoped>\n",
       "    .dataframe tbody tr th:only-of-type {\n",
       "        vertical-align: middle;\n",
       "    }\n",
       "\n",
       "    .dataframe tbody tr th {\n",
       "        vertical-align: top;\n",
       "    }\n",
       "\n",
       "    .dataframe thead th {\n",
       "        text-align: right;\n",
       "    }\n",
       "</style>\n",
       "<table border=\"1\" class=\"dataframe\">\n",
       "  <thead>\n",
       "    <tr style=\"text-align: right;\">\n",
       "      <th></th>\n",
       "      <th>make</th>\n",
       "      <th>type</th>\n",
       "      <th>year</th>\n",
       "      <th>engine</th>\n",
       "      <th>mileage</th>\n",
       "      <th>price_in_azn</th>\n",
       "    </tr>\n",
       "  </thead>\n",
       "  <tbody>\n",
       "    <tr>\n",
       "      <th>0</th>\n",
       "      <td>Peugeot</td>\n",
       "      <td>Partner</td>\n",
       "      <td>2022</td>\n",
       "      <td>1.5</td>\n",
       "      <td>0.0</td>\n",
       "      <td>40000.0</td>\n",
       "    </tr>\n",
       "    <tr>\n",
       "      <th>1</th>\n",
       "      <td>Opel</td>\n",
       "      <td>Astra</td>\n",
       "      <td>2009</td>\n",
       "      <td>1.4</td>\n",
       "      <td>257000.0</td>\n",
       "      <td>9000.0</td>\n",
       "    </tr>\n",
       "    <tr>\n",
       "      <th>2</th>\n",
       "      <td>Mercedes</td>\n",
       "      <td>S 350</td>\n",
       "      <td>2014</td>\n",
       "      <td>3.0</td>\n",
       "      <td>150000.0</td>\n",
       "      <td>103700.0</td>\n",
       "    </tr>\n",
       "    <tr>\n",
       "      <th>3</th>\n",
       "      <td>Fiat</td>\n",
       "      <td>Doblo</td>\n",
       "      <td>2022</td>\n",
       "      <td>1.4</td>\n",
       "      <td>0.0</td>\n",
       "      <td>45800.0</td>\n",
       "    </tr>\n",
       "    <tr>\n",
       "      <th>4</th>\n",
       "      <td>Kia</td>\n",
       "      <td>Optima</td>\n",
       "      <td>2014</td>\n",
       "      <td>2.0</td>\n",
       "      <td>215000.0</td>\n",
       "      <td>29900.0</td>\n",
       "    </tr>\n",
       "  </tbody>\n",
       "</table>\n",
       "</div>"
      ],
      "text/plain": [
       "       make      type  year  engine   mileage  price_in_azn\n",
       "0   Peugeot   Partner  2022     1.5       0.0       40000.0\n",
       "1      Opel     Astra  2009     1.4  257000.0        9000.0\n",
       "2  Mercedes     S 350  2014     3.0  150000.0      103700.0\n",
       "3      Fiat     Doblo  2022     1.4       0.0       45800.0\n",
       "4       Kia    Optima  2014     2.0  215000.0       29900.0"
      ]
     },
     "execution_count": 31,
     "metadata": {},
     "output_type": "execute_result"
    }
   ],
   "source": [
    "df.head()"
   ]
  },
  {
   "cell_type": "code",
   "execution_count": 35,
   "id": "aa2d0b67",
   "metadata": {},
   "outputs": [
    {
     "data": {
      "text/plain": [
       "year            0.461785\n",
       "engine          0.306361\n",
       "mileage        -0.333258\n",
       "price_in_azn    1.000000\n",
       "Name: price_in_azn, dtype: float64"
      ]
     },
     "execution_count": 35,
     "metadata": {},
     "output_type": "execute_result"
    }
   ],
   "source": [
    "df.corr()['price_in_azn']"
   ]
  },
  {
   "cell_type": "code",
   "execution_count": 39,
   "id": "da29b65f",
   "metadata": {},
   "outputs": [
    {
     "data": {
      "text/plain": [
       "122"
      ]
     },
     "execution_count": 39,
     "metadata": {},
     "output_type": "execute_result"
    }
   ],
   "source": [
    "df['make'].nunique()"
   ]
  },
  {
   "cell_type": "code",
   "execution_count": 40,
   "id": "c7cb7486",
   "metadata": {},
   "outputs": [
    {
     "data": {
      "text/plain": [
       "981"
      ]
     },
     "execution_count": 40,
     "metadata": {},
     "output_type": "execute_result"
    }
   ],
   "source": [
    "df['type'].nunique()"
   ]
  },
  {
   "cell_type": "code",
   "execution_count": 41,
   "id": "f65d240c",
   "metadata": {},
   "outputs": [
    {
     "name": "stdout",
     "output_type": "stream",
     "text": [
      "Collecting category_encoders\n",
      "  Downloading category_encoders-2.6.0-py2.py3-none-any.whl (81 kB)\n",
      "\u001b[2K     \u001b[90m━━━━━━━━━━━━━━━━━━━━━━━━━━━━━━━━━━━━━━━\u001b[0m \u001b[32m81.2/81.2 kB\u001b[0m \u001b[31m259.3 kB/s\u001b[0m eta \u001b[36m0:00:00\u001b[0ma \u001b[36m0:00:01\u001b[0m\n",
      "\u001b[?25hRequirement already satisfied: numpy>=1.14.0 in /Users/hasanzeynalov/miniconda3/lib/python3.10/site-packages (from category_encoders) (1.23.4)\n",
      "Requirement already satisfied: statsmodels>=0.9.0 in /Users/hasanzeynalov/miniconda3/lib/python3.10/site-packages (from category_encoders) (0.13.5)\n",
      "Requirement already satisfied: scikit-learn>=0.20.0 in /Users/hasanzeynalov/miniconda3/lib/python3.10/site-packages (from category_encoders) (1.2.2)\n",
      "Requirement already satisfied: scipy>=1.0.0 in /Users/hasanzeynalov/miniconda3/lib/python3.10/site-packages (from category_encoders) (1.9.3)\n",
      "Requirement already satisfied: patsy>=0.5.1 in /Users/hasanzeynalov/miniconda3/lib/python3.10/site-packages (from category_encoders) (0.5.3)\n",
      "Requirement already satisfied: pandas>=1.0.5 in /Users/hasanzeynalov/miniconda3/lib/python3.10/site-packages (from category_encoders) (1.5.3)\n",
      "Requirement already satisfied: python-dateutil>=2.8.1 in /Users/hasanzeynalov/miniconda3/lib/python3.10/site-packages (from pandas>=1.0.5->category_encoders) (2.8.2)\n",
      "Requirement already satisfied: pytz>=2020.1 in /Users/hasanzeynalov/miniconda3/lib/python3.10/site-packages (from pandas>=1.0.5->category_encoders) (2022.7)\n",
      "Requirement already satisfied: six in /Users/hasanzeynalov/miniconda3/lib/python3.10/site-packages (from patsy>=0.5.1->category_encoders) (1.16.0)\n",
      "Requirement already satisfied: joblib>=1.1.1 in /Users/hasanzeynalov/.local/lib/python3.10/site-packages (from scikit-learn>=0.20.0->category_encoders) (1.2.0)\n",
      "Requirement already satisfied: threadpoolctl>=2.0.0 in /Users/hasanzeynalov/miniconda3/lib/python3.10/site-packages (from scikit-learn>=0.20.0->category_encoders) (3.1.0)\n",
      "Requirement already satisfied: packaging>=21.3 in /Users/hasanzeynalov/miniconda3/lib/python3.10/site-packages (from statsmodels>=0.9.0->category_encoders) (22.0)\n",
      "Installing collected packages: category_encoders\n",
      "Successfully installed category_encoders-2.6.0\n",
      "Note: you may need to restart the kernel to use updated packages.\n"
     ]
    }
   ],
   "source": [
    "pip install category_encoders"
   ]
  },
  {
   "cell_type": "code",
   "execution_count": 45,
   "id": "ebbb7c61",
   "metadata": {},
   "outputs": [],
   "source": [
    "# encoding with Binary Encoding\n",
    "import category_encoders as ce\n",
    "categorical_df = df.select_dtypes(include='object')\n",
    "encoder = ce.BinaryEncoder(cols=['make','type'])\n",
    "encoded_df = encoder.fit_transform(categorical_df)"
   ]
  },
  {
   "cell_type": "code",
   "execution_count": 48,
   "id": "f3aa9cae",
   "metadata": {},
   "outputs": [],
   "source": [
    "numerical_df = df.select_dtypes(exclude ='object')"
   ]
  },
  {
   "cell_type": "code",
   "execution_count": 49,
   "id": "df096174",
   "metadata": {},
   "outputs": [],
   "source": [
    "#final data(encoded data + another columns)\n",
    "final_df = encoded_df.join(numerical_df)"
   ]
  },
  {
   "cell_type": "code",
   "execution_count": 59,
   "id": "d342a0c0",
   "metadata": {},
   "outputs": [],
   "source": [
    "#assigning target adn intependet variables\n",
    "from sklearn.model_selection import train_test_split\n",
    "y = final_df.iloc[:,-1]\n",
    "X = final_df.drop('price_in_azn',axis=1)\n",
    "#train test splitting\n",
    "X_train,X_test,y_train,y_test = train_test_split(X,y,test_size=0.2,random_state=42)"
   ]
  },
  {
   "cell_type": "code",
   "execution_count": 62,
   "id": "6ca2aaf9",
   "metadata": {},
   "outputs": [],
   "source": [
    "#scalling with Min Max Scaler\n",
    "from sklearn.preprocessing import MinMaxScaler\n",
    "min_max_scl = MinMaxScaler(feature_range=(-1,1))\n",
    "X_train = min_max_scl.fit_transform(X_train)\n",
    "X_test = min_max_scl.fit_transform(X_test)"
   ]
  },
  {
   "cell_type": "code",
   "execution_count": 65,
   "id": "f8f800aa",
   "metadata": {},
   "outputs": [
    {
     "data": {
      "text/plain": [
       "-0.2950637046945548"
      ]
     },
     "execution_count": 65,
     "metadata": {},
     "output_type": "execute_result"
    }
   ],
   "source": [
    "#modelling with linear regression\n",
    "from sklearn.linear_model import LinearRegression\n",
    "lr = LinearRegression()\n",
    "lr.fit(X_train,y_train)\n",
    "lr.predict(X_test)\n",
    "from sklearn.metrics import r2_score\n",
    "r2_score(y_test,lr.predict(X_test))"
   ]
  },
  {
   "cell_type": "markdown",
   "id": "7055a75b",
   "metadata": {},
   "source": [
    "Actually,R Squared shouldn't be negative value,there are 2 options that can be wrong in the model.\n",
    "1. Encoding Method\n",
    "2. Data is Not Clean Enough\n",
    "\n",
    "There are so many class in the make and type column that is complicating prediction"
   ]
  },
  {
   "cell_type": "markdown",
   "id": "d58f324f",
   "metadata": {},
   "source": [
    "###### Let's get change the encoding method to see we have any change or not"
   ]
  },
  {
   "cell_type": "code",
   "execution_count": 66,
   "id": "5926ac22",
   "metadata": {},
   "outputs": [
    {
     "data": {
      "text/html": [
       "<div>\n",
       "<style scoped>\n",
       "    .dataframe tbody tr th:only-of-type {\n",
       "        vertical-align: middle;\n",
       "    }\n",
       "\n",
       "    .dataframe tbody tr th {\n",
       "        vertical-align: top;\n",
       "    }\n",
       "\n",
       "    .dataframe thead th {\n",
       "        text-align: right;\n",
       "    }\n",
       "</style>\n",
       "<table border=\"1\" class=\"dataframe\">\n",
       "  <thead>\n",
       "    <tr style=\"text-align: right;\">\n",
       "      <th></th>\n",
       "      <th>make</th>\n",
       "      <th>type</th>\n",
       "      <th>year</th>\n",
       "      <th>engine</th>\n",
       "      <th>mileage</th>\n",
       "      <th>price_in_azn</th>\n",
       "    </tr>\n",
       "  </thead>\n",
       "  <tbody>\n",
       "    <tr>\n",
       "      <th>0</th>\n",
       "      <td>Peugeot</td>\n",
       "      <td>Partner</td>\n",
       "      <td>2022</td>\n",
       "      <td>1.5</td>\n",
       "      <td>0.0</td>\n",
       "      <td>40000.0</td>\n",
       "    </tr>\n",
       "    <tr>\n",
       "      <th>1</th>\n",
       "      <td>Opel</td>\n",
       "      <td>Astra</td>\n",
       "      <td>2009</td>\n",
       "      <td>1.4</td>\n",
       "      <td>257000.0</td>\n",
       "      <td>9000.0</td>\n",
       "    </tr>\n",
       "    <tr>\n",
       "      <th>2</th>\n",
       "      <td>Mercedes</td>\n",
       "      <td>S 350</td>\n",
       "      <td>2014</td>\n",
       "      <td>3.0</td>\n",
       "      <td>150000.0</td>\n",
       "      <td>103700.0</td>\n",
       "    </tr>\n",
       "    <tr>\n",
       "      <th>3</th>\n",
       "      <td>Fiat</td>\n",
       "      <td>Doblo</td>\n",
       "      <td>2022</td>\n",
       "      <td>1.4</td>\n",
       "      <td>0.0</td>\n",
       "      <td>45800.0</td>\n",
       "    </tr>\n",
       "    <tr>\n",
       "      <th>4</th>\n",
       "      <td>Kia</td>\n",
       "      <td>Optima</td>\n",
       "      <td>2014</td>\n",
       "      <td>2.0</td>\n",
       "      <td>215000.0</td>\n",
       "      <td>29900.0</td>\n",
       "    </tr>\n",
       "  </tbody>\n",
       "</table>\n",
       "</div>"
      ],
      "text/plain": [
       "       make      type  year  engine   mileage  price_in_azn\n",
       "0   Peugeot   Partner  2022     1.5       0.0       40000.0\n",
       "1      Opel     Astra  2009     1.4  257000.0        9000.0\n",
       "2  Mercedes     S 350  2014     3.0  150000.0      103700.0\n",
       "3      Fiat     Doblo  2022     1.4       0.0       45800.0\n",
       "4       Kia    Optima  2014     2.0  215000.0       29900.0"
      ]
     },
     "execution_count": 66,
     "metadata": {},
     "output_type": "execute_result"
    }
   ],
   "source": [
    "df.head()"
   ]
  },
  {
   "cell_type": "code",
   "execution_count": 71,
   "id": "3df0302d",
   "metadata": {},
   "outputs": [
    {
     "data": {
      "text/html": [
       "<div>\n",
       "<style scoped>\n",
       "    .dataframe tbody tr th:only-of-type {\n",
       "        vertical-align: middle;\n",
       "    }\n",
       "\n",
       "    .dataframe tbody tr th {\n",
       "        vertical-align: top;\n",
       "    }\n",
       "\n",
       "    .dataframe thead th {\n",
       "        text-align: right;\n",
       "    }\n",
       "</style>\n",
       "<table border=\"1\" class=\"dataframe\">\n",
       "  <thead>\n",
       "    <tr style=\"text-align: right;\">\n",
       "      <th></th>\n",
       "      <th>make</th>\n",
       "      <th>type</th>\n",
       "      <th>year</th>\n",
       "      <th>engine</th>\n",
       "      <th>mileage</th>\n",
       "      <th>price_in_azn</th>\n",
       "    </tr>\n",
       "  </thead>\n",
       "  <tbody>\n",
       "    <tr>\n",
       "      <th>0</th>\n",
       "      <td>87</td>\n",
       "      <td>686</td>\n",
       "      <td>2022</td>\n",
       "      <td>1.5</td>\n",
       "      <td>0.0</td>\n",
       "      <td>40000.0</td>\n",
       "    </tr>\n",
       "    <tr>\n",
       "      <th>1</th>\n",
       "      <td>85</td>\n",
       "      <td>204</td>\n",
       "      <td>2009</td>\n",
       "      <td>1.4</td>\n",
       "      <td>257000.0</td>\n",
       "      <td>9000.0</td>\n",
       "    </tr>\n",
       "    <tr>\n",
       "      <th>2</th>\n",
       "      <td>77</td>\n",
       "      <td>770</td>\n",
       "      <td>2014</td>\n",
       "      <td>3.0</td>\n",
       "      <td>150000.0</td>\n",
       "      <td>103700.0</td>\n",
       "    </tr>\n",
       "    <tr>\n",
       "      <th>3</th>\n",
       "      <td>28</td>\n",
       "      <td>344</td>\n",
       "      <td>2022</td>\n",
       "      <td>1.4</td>\n",
       "      <td>0.0</td>\n",
       "      <td>45800.0</td>\n",
       "    </tr>\n",
       "    <tr>\n",
       "      <th>4</th>\n",
       "      <td>62</td>\n",
       "      <td>669</td>\n",
       "      <td>2014</td>\n",
       "      <td>2.0</td>\n",
       "      <td>215000.0</td>\n",
       "      <td>29900.0</td>\n",
       "    </tr>\n",
       "  </tbody>\n",
       "</table>\n",
       "</div>"
      ],
      "text/plain": [
       "   make  type  year  engine   mileage  price_in_azn\n",
       "0    87   686  2022     1.5       0.0       40000.0\n",
       "1    85   204  2009     1.4  257000.0        9000.0\n",
       "2    77   770  2014     3.0  150000.0      103700.0\n",
       "3    28   344  2022     1.4       0.0       45800.0\n",
       "4    62   669  2014     2.0  215000.0       29900.0"
      ]
     },
     "execution_count": 71,
     "metadata": {},
     "output_type": "execute_result"
    }
   ],
   "source": [
    "#encoding with one hot encoding\n",
    "from sklearn.preprocessing import OneHotEncoder\n",
    "#assigning categorical columns\n",
    "categorical_cols = ['make','type']\n",
    "\n",
    "one_hot_encoded_data = pd.get_dummies(df, columns = categorical_cols)\n",
    "# Converting type of columns to category\n",
    "df['make']=df['make'].astype('category')\n",
    "df['type']=df['type'].astype('category')\n",
    " \n",
    "# Assigning numerical values and storing it in another columns\n",
    "df['make']=df['make'].cat.codes\n",
    "df['type']=df['type'].cat.codes\n",
    " \n",
    "#Create an instance of One-hot-encoder\n",
    "enc=OneHotEncoder()\n",
    " \n",
    "#Passing encoded columns\n",
    "enc_data=pd.DataFrame(enc.fit_transform(df[categorical_cols]))\n",
    " \n",
    "#Merge with main\n",
    "New_df=df.join(enc_data)\n",
    "New_df.drop(New_df.columns[[6]], axis=1, inplace=True)\n",
    "New_df.head()"
   ]
  },
  {
   "cell_type": "code",
   "execution_count": 72,
   "id": "6227713f",
   "metadata": {},
   "outputs": [],
   "source": [
    "#assigning target adn intependet variables\n",
    "from sklearn.model_selection import train_test_split\n",
    "y = New_df.iloc[:,-1]\n",
    "X = New_df.drop('price_in_azn',axis=1)\n",
    "#train test splitting\n",
    "X_train,X_test,y_train,y_test = train_test_split(X,y,test_size=0.2,random_state=42)"
   ]
  },
  {
   "cell_type": "code",
   "execution_count": 73,
   "id": "a76d1535",
   "metadata": {},
   "outputs": [],
   "source": [
    "#scalling with Min Max Scaler\n",
    "from sklearn.preprocessing import MinMaxScaler\n",
    "min_max_scl = MinMaxScaler(feature_range=(-1,1))\n",
    "X_train = min_max_scl.fit_transform(X_train)\n",
    "X_test = min_max_scl.fit_transform(X_test)"
   ]
  },
  {
   "cell_type": "code",
   "execution_count": 74,
   "id": "cc4e6a7f",
   "metadata": {},
   "outputs": [
    {
     "data": {
      "text/plain": [
       "-0.5220252724253867"
      ]
     },
     "execution_count": 74,
     "metadata": {},
     "output_type": "execute_result"
    }
   ],
   "source": [
    "#modelling with linear regression\n",
    "from sklearn.linear_model import LinearRegression\n",
    "lr = LinearRegression()\n",
    "lr.fit(X_train,y_train)\n",
    "lr.predict(X_test)\n",
    "from sklearn.metrics import r2_score\n",
    "r2_score(y_test,lr.predict(X_test))"
   ]
  },
  {
   "cell_type": "code",
   "execution_count": 79,
   "id": "863f180c",
   "metadata": {},
   "outputs": [
    {
     "data": {
      "image/png": "[encoded data removed]",
      "text/plain": [
       "<Figure size 640x480 with 2 Axes>"
      ]
     },
     "metadata": {},
     "output_type": "display_data"
    }
   ],
   "source": [
    "import seaborn as sns\n",
    "import matplotlib.pyplot as plt\n",
    "sns.heatmap(New_df.corr(),annot=True)\n",
    "plt.show()"
   ]
  },
  {
   "cell_type": "markdown",
   "id": "7dd2c5a3",
   "metadata": {},
   "source": [
    "###### From the Heatmap,We can see some problems:\n",
    "1. Multicollinearity\n",
    "2. Make which is model of the cars should affect to the price but correlation is about 0.005(even p value < 0.05)"
   ]
  },
  {
   "cell_type": "code",
   "execution_count": null,
   "id": "5b0b75ec",
   "metadata": {},
   "outputs": [],
   "source": []
  }
 ],
 "metadata": {
  "kernelspec": {
   "display_name": "Python 3 (ipykernel)",
   "language": "python",
   "name": "python3"
  },
  "language_info": {
   "codemirror_mode": {
    "name": "ipython",
    "version": 3
   },
   "file_extension": ".py",
   "mimetype": "text/x-python",
   "name": "python",
   "nbconvert_exporter": "python",
   "pygments_lexer": "ipython3",
   "version": "3.10.8"
  }
 },
 "nbformat": 4,
 "nbformat_minor": 5
}
