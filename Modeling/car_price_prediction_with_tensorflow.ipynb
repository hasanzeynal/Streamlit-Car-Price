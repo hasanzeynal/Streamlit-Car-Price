{
  "nbformat": 4,
  "nbformat_minor": 0,
  "metadata": {
    "colab": {
      "provenance": [],
      "authorship_tag": "ABX9TyOshMxAwQSgcOJ0PvB9O4st",
      "include_colab_link": true
    },
    "kernelspec": {
      "name": "python3",
      "display_name": "Python 3"
    },
    "language_info": {
      "name": "python"
    }
  },
  "cells": [
    {
      "cell_type": "markdown",
      "metadata": {
        "id": "view-in-github",
        "colab_type": "text"
      },
      "source": [
        "<a href=\"https://colab.research.google.com/github/hasanzeynal/Streamlit-Car-Price/blob/main/Modeling/car_price_prediction_with_tensorflow.ipynb\" target=\"_parent\"><img src=\"https://colab.research.google.com/assets/colab-badge.svg\" alt=\"Open In Colab\"/></a>"
      ]
    },
    {
      "cell_type": "code",
      "execution_count": null,
      "metadata": {
        "id": "6opXRxwwF_43"
      },
      "outputs": [],
      "source": [
        "#import libraries\n",
        "import tensorflow as tf\n",
        "import pandas as pd"
      ]
    },
    {
      "cell_type": "code",
      "source": [
        "miau"
      ],
      "metadata": {
        "id": "VleC7PGMHrhg"
      },
      "execution_count": null,
      "outputs": []
    },
    {
      "cell_type": "code",
      "source": [
        "from google.colab import drive\n",
        "drive.mount('/content/drive')"
      ],
      "metadata": {
        "colab": {
          "base_uri": "https://localhost:8080/"
        },
        "id": "_V7FRXCo6Zjc",
        "outputId": "9dd6c1be-ebf0-4587-bbb0-d056a359a9db"
      },
      "execution_count": null,
      "outputs": [
        {
          "output_type": "stream",
          "name": "stdout",
          "text": [
            "Mounted at /content/drive\n"
          ]
        }
      ]
    },
    {
      "cell_type": "code",
      "source": [
        "train_df = pd.read_csv('/content/drive/MyDrive/datasets/Car_price/train.csv')\n",
        "test_df = pd.read_csv('/content/drive/MyDrive/datasets/Car_price/test.csv')\n",
        "train_df.head(),test_df.head()"
      ],
      "metadata": {
        "colab": {
          "base_uri": "https://localhost:8080/"
        },
        "id": "Lfd64THr6aUq",
        "outputId": "9b9dd1f9-2828-46e7-a97a-07f7783f2cab"
      },
      "execution_count": null,
      "outputs": [
        {
          "output_type": "execute_result",
          "data": {
            "text/plain": [
              "(         ID  Price  Levy Manufacturer    Model  Prod. year   Category  \\\n",
              " 0  45654403  13328  1399        LEXUS   RX 450        2010       Jeep   \n",
              " 1  44731507  16621  1018    CHEVROLET  Equinox        2011       Jeep   \n",
              " 2  45774419   8467     -        HONDA      FIT        2006  Hatchback   \n",
              " 3  45769185   3607   862         FORD   Escape        2011       Jeep   \n",
              " 4  45809263  11726   446        HONDA      FIT        2014  Hatchback   \n",
              " \n",
              "   Leather interior Fuel type Engine volume    Mileage  Cylinders  \\\n",
              " 0              Yes    Hybrid           3.5  186005 km        6.0   \n",
              " 1               No    Petrol             3  192000 km        6.0   \n",
              " 2               No    Petrol           1.3  200000 km        4.0   \n",
              " 3              Yes    Hybrid           2.5  168966 km        4.0   \n",
              " 4              Yes    Petrol           1.3   91901 km        4.0   \n",
              " \n",
              "   Gear box type Drive wheels   Doors             Wheel   Color  Airbags  \n",
              " 0     Automatic          4x4  04-May        Left wheel  Silver       12  \n",
              " 1     Tiptronic          4x4  04-May        Left wheel   Black        8  \n",
              " 2      Variator        Front  04-May  Right-hand drive   Black        2  \n",
              " 3     Automatic          4x4  04-May        Left wheel   White        0  \n",
              " 4     Automatic        Front  04-May        Left wheel  Silver        4  ,\n",
              "          ID Levy Manufacturer   Model  Prod. year   Category Leather interior  \\\n",
              " 0  44020629    -   VOLKSWAGEN    Golf        2012  Hatchback               No   \n",
              " 1  45784798    -      HYUNDAI  Sonata        2012      Sedan              Yes   \n",
              " 2  45800257    -       NISSAN   Tiida        2005      Sedan               No   \n",
              " 3  45797981  975        VOLVO    XC90        2012       Jeep              Yes   \n",
              " 4  45814303    -         OPEL   Astra        1993  Hatchback               No   \n",
              " \n",
              "   Fuel type Engine volume    Mileage  Cylinders Gear box type Drive wheels  \\\n",
              " 0    Diesel     2.0 Turbo       0 km          4        Manual        Front   \n",
              " 1    Petrol           2.4   26000 km          4     Tiptronic        Front   \n",
              " 2    Petrol           1.5  168000 km          4     Automatic        Front   \n",
              " 3    Petrol           3.2  143000 km          6     Automatic          4x4   \n",
              " 4    Petrol           1.6  200000 km          4        Manual        Front   \n",
              " \n",
              "     Doors             Wheel     Color  Airbags  Price  \n",
              " 0  02-Mar        Left wheel      Grey       10    NaN  \n",
              " 1  04-May        Left wheel      Grey       10    NaN  \n",
              " 2  04-May  Right-hand drive  Sky blue        8    NaN  \n",
              " 3  04-May        Left wheel      Blue       12    NaN  \n",
              " 4  04-May        Left wheel     Black        0    NaN  )"
            ]
          },
          "metadata": {},
          "execution_count": 5
        }
      ]
    },
    {
      "cell_type": "code",
      "source": [
        "test_df.isna().sum(),train_df.isna().sum()"
      ],
      "metadata": {
        "colab": {
          "base_uri": "https://localhost:8080/"
        },
        "id": "beh2Pzjz62em",
        "outputId": "4487fe84-ab21-4e1a-9c5a-f914e6cde5e2"
      },
      "execution_count": null,
      "outputs": [
        {
          "output_type": "execute_result",
          "data": {
            "text/plain": [
              "(ID                     0\n",
              " Levy                   0\n",
              " Manufacturer           0\n",
              " Model                  0\n",
              " Prod. year             0\n",
              " Category               0\n",
              " Leather interior       0\n",
              " Fuel type              0\n",
              " Engine volume          0\n",
              " Mileage                0\n",
              " Cylinders              0\n",
              " Gear box type          0\n",
              " Drive wheels           0\n",
              " Doors                  0\n",
              " Wheel                  0\n",
              " Color                  0\n",
              " Airbags                0\n",
              " Price               8245\n",
              " dtype: int64,\n",
              " ID                  0\n",
              " Price               0\n",
              " Levy                0\n",
              " Manufacturer        0\n",
              " Model               0\n",
              " Prod. year          0\n",
              " Category            0\n",
              " Leather interior    0\n",
              " Fuel type           0\n",
              " Engine volume       0\n",
              " Mileage             0\n",
              " Cylinders           0\n",
              " Gear box type       0\n",
              " Drive wheels        0\n",
              " Doors               0\n",
              " Wheel               0\n",
              " Color               0\n",
              " Airbags             0\n",
              " dtype: int64)"
            ]
          },
          "metadata": {},
          "execution_count": 8
        }
      ]
    },
    {
      "cell_type": "code",
      "source": [],
      "metadata": {
        "id": "zatB22LG7CGA"
      },
      "execution_count": null,
      "outputs": []
    }
  ]
}