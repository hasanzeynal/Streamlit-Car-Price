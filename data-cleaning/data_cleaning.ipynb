{
 "cells": [
  {
   "cell_type": "code",
   "execution_count": 72,
   "id": "96a3baa0",
   "metadata": {},
   "outputs": [
    {
     "data": {
      "text/html": [
       "<div>\n",
       "<style scoped>\n",
       "    .dataframe tbody tr th:only-of-type {\n",
       "        vertical-align: middle;\n",
       "    }\n",
       "\n",
       "    .dataframe tbody tr th {\n",
       "        vertical-align: top;\n",
       "    }\n",
       "\n",
       "    .dataframe thead th {\n",
       "        text-align: right;\n",
       "    }\n",
       "</style>\n",
       "<table border=\"1\" class=\"dataframe\">\n",
       "  <thead>\n",
       "    <tr style=\"text-align: right;\">\n",
       "      <th></th>\n",
       "      <th>car</th>\n",
       "      <th>price</th>\n",
       "      <th>details</th>\n",
       "    </tr>\n",
       "  </thead>\n",
       "  <tbody>\n",
       "    <tr>\n",
       "      <th>0</th>\n",
       "      <td>Peugeot Partner</td>\n",
       "      <td>40 000 AZN</td>\n",
       "      <td>2022, 1.5 L, 0 km</td>\n",
       "    </tr>\n",
       "    <tr>\n",
       "      <th>1</th>\n",
       "      <td>Opel Astra</td>\n",
       "      <td>9 000 AZN</td>\n",
       "      <td>2009, 1.4 L, 257 000 km</td>\n",
       "    </tr>\n",
       "    <tr>\n",
       "      <th>2</th>\n",
       "      <td>Mercedes S 350</td>\n",
       "      <td>61 000 $</td>\n",
       "      <td>2014, 3.0 L, 150 000 km</td>\n",
       "    </tr>\n",
       "    <tr>\n",
       "      <th>3</th>\n",
       "      <td>Fiat Doblo</td>\n",
       "      <td>45 800 AZN</td>\n",
       "      <td>2022, 1.4 L, 0 km</td>\n",
       "    </tr>\n",
       "    <tr>\n",
       "      <th>4</th>\n",
       "      <td>Kia Optima</td>\n",
       "      <td>29 900 AZN</td>\n",
       "      <td>2014, 2.0 L, 215 000 km</td>\n",
       "    </tr>\n",
       "    <tr>\n",
       "      <th>...</th>\n",
       "      <td>...</td>\n",
       "      <td>...</td>\n",
       "      <td>...</td>\n",
       "    </tr>\n",
       "    <tr>\n",
       "      <th>14971</th>\n",
       "      <td>LADA (VAZ) 2107</td>\n",
       "      <td>6 200 AZN</td>\n",
       "      <td>2007, 1.6 L, 55 000 km</td>\n",
       "    </tr>\n",
       "    <tr>\n",
       "      <th>14972</th>\n",
       "      <td>Mercedes Sprinter 311</td>\n",
       "      <td>25 400 AZN</td>\n",
       "      <td>2008, 2.2 L, 198 000 km</td>\n",
       "    </tr>\n",
       "    <tr>\n",
       "      <th>14973</th>\n",
       "      <td>Mercedes ML 250</td>\n",
       "      <td>59 542 AZN</td>\n",
       "      <td>2014, 2.1 L, 56 000 km</td>\n",
       "    </tr>\n",
       "    <tr>\n",
       "      <th>14974</th>\n",
       "      <td>Mercedes C 240</td>\n",
       "      <td>15 300 AZN</td>\n",
       "      <td>1999, 2.4 L, 187 600 km</td>\n",
       "    </tr>\n",
       "    <tr>\n",
       "      <th>14975</th>\n",
       "      <td>Hyundai H-1</td>\n",
       "      <td>23 542 AZN</td>\n",
       "      <td>2012, 2.5 L, 210 000 km</td>\n",
       "    </tr>\n",
       "  </tbody>\n",
       "</table>\n",
       "<p>14976 rows × 3 columns</p>\n",
       "</div>"
      ],
      "text/plain": [
       "                         car       price                  details\n",
       "0            Peugeot Partner  40 000 AZN        2022, 1.5 L, 0 km\n",
       "1                 Opel Astra   9 000 AZN  2009, 1.4 L, 257 000 km\n",
       "2             Mercedes S 350    61 000 $  2014, 3.0 L, 150 000 km\n",
       "3                 Fiat Doblo  45 800 AZN        2022, 1.4 L, 0 km\n",
       "4                 Kia Optima  29 900 AZN  2014, 2.0 L, 215 000 km\n",
       "...                      ...         ...                      ...\n",
       "14971        LADA (VAZ) 2107   6 200 AZN   2007, 1.6 L, 55 000 km\n",
       "14972  Mercedes Sprinter 311  25 400 AZN  2008, 2.2 L, 198 000 km\n",
       "14973        Mercedes ML 250  59 542 AZN   2014, 2.1 L, 56 000 km\n",
       "14974         Mercedes C 240  15 300 AZN  1999, 2.4 L, 187 600 km\n",
       "14975            Hyundai H-1  23 542 AZN  2012, 2.5 L, 210 000 km\n",
       "\n",
       "[14976 rows x 3 columns]"
      ]
     },
     "execution_count": 72,
     "metadata": {},
     "output_type": "execute_result"
    }
   ],
   "source": [
    "import pandas as pd\n",
    "import warnings\n",
    "warnings.filterwarnings('ignore')\n",
    "df = pd.read_excel('turbo_az.xlsx')\n",
    "df"
   ]
  },
  {
   "cell_type": "code",
   "execution_count": 73,
   "id": "d8c549c1",
   "metadata": {},
   "outputs": [
    {
     "data": {
      "text/plain": [
       "'Mercedes'"
      ]
     },
     "execution_count": 73,
     "metadata": {},
     "output_type": "execute_result"
    }
   ],
   "source": [
    "#checking for regular expression that it works or not\n",
    "import re\n",
    "re.findall(r\"\\w+\",\"Mercedes Sprinter 311\")[0]"
   ]
  },
  {
   "cell_type": "code",
   "execution_count": 74,
   "id": "87e83ee7",
   "metadata": {},
   "outputs": [],
   "source": [
    "#car type\n",
    "df['make'] = df['car'].str.extract('(\\w+)')[0]"
   ]
  },
  {
   "cell_type": "code",
   "execution_count": 75,
   "id": "193825a6",
   "metadata": {},
   "outputs": [],
   "source": [
    "#creating empty column to not get KeyError when we tryna create type column in the next cell\n",
    "import numpy as np\n",
    "df['type'] = np.nan"
   ]
  },
  {
   "cell_type": "code",
   "execution_count": 76,
   "id": "3a435b57",
   "metadata": {},
   "outputs": [],
   "source": [
    "#car model\n",
    "for i,j in enumerate(df['make']):\n",
    "    df['type'][i] = df['car'][i].replace(j,'')"
   ]
  },
  {
   "cell_type": "code",
   "execution_count": 77,
   "id": "276750e1",
   "metadata": {},
   "outputs": [],
   "source": [
    "#droping car\n",
    "df.drop('car',inplace=True,axis=1)"
   ]
  },
  {
   "cell_type": "code",
   "execution_count": 78,
   "id": "8625a01b",
   "metadata": {},
   "outputs": [
    {
     "data": {
      "text/html": [
       "<div>\n",
       "<style scoped>\n",
       "    .dataframe tbody tr th:only-of-type {\n",
       "        vertical-align: middle;\n",
       "    }\n",
       "\n",
       "    .dataframe tbody tr th {\n",
       "        vertical-align: top;\n",
       "    }\n",
       "\n",
       "    .dataframe thead th {\n",
       "        text-align: right;\n",
       "    }\n",
       "</style>\n",
       "<table border=\"1\" class=\"dataframe\">\n",
       "  <thead>\n",
       "    <tr style=\"text-align: right;\">\n",
       "      <th></th>\n",
       "      <th>price</th>\n",
       "      <th>details</th>\n",
       "      <th>make</th>\n",
       "      <th>type</th>\n",
       "    </tr>\n",
       "  </thead>\n",
       "  <tbody>\n",
       "    <tr>\n",
       "      <th>0</th>\n",
       "      <td>40 000 AZN</td>\n",
       "      <td>2022, 1.5 L, 0 km</td>\n",
       "      <td>Peugeot</td>\n",
       "      <td>Partner</td>\n",
       "    </tr>\n",
       "    <tr>\n",
       "      <th>1</th>\n",
       "      <td>9 000 AZN</td>\n",
       "      <td>2009, 1.4 L, 257 000 km</td>\n",
       "      <td>Opel</td>\n",
       "      <td>Astra</td>\n",
       "    </tr>\n",
       "    <tr>\n",
       "      <th>2</th>\n",
       "      <td>61 000 $</td>\n",
       "      <td>2014, 3.0 L, 150 000 km</td>\n",
       "      <td>Mercedes</td>\n",
       "      <td>S 350</td>\n",
       "    </tr>\n",
       "    <tr>\n",
       "      <th>3</th>\n",
       "      <td>45 800 AZN</td>\n",
       "      <td>2022, 1.4 L, 0 km</td>\n",
       "      <td>Fiat</td>\n",
       "      <td>Doblo</td>\n",
       "    </tr>\n",
       "    <tr>\n",
       "      <th>4</th>\n",
       "      <td>29 900 AZN</td>\n",
       "      <td>2014, 2.0 L, 215 000 km</td>\n",
       "      <td>Kia</td>\n",
       "      <td>Optima</td>\n",
       "    </tr>\n",
       "  </tbody>\n",
       "</table>\n",
       "</div>"
      ],
      "text/plain": [
       "        price                  details      make      type\n",
       "0  40 000 AZN        2022, 1.5 L, 0 km   Peugeot   Partner\n",
       "1   9 000 AZN  2009, 1.4 L, 257 000 km      Opel     Astra\n",
       "2    61 000 $  2014, 3.0 L, 150 000 km  Mercedes     S 350\n",
       "3  45 800 AZN        2022, 1.4 L, 0 km      Fiat     Doblo\n",
       "4  29 900 AZN  2014, 2.0 L, 215 000 km       Kia    Optima"
      ]
     },
     "execution_count": 78,
     "metadata": {},
     "output_type": "execute_result"
    }
   ],
   "source": [
    "df.head()"
   ]
  },
  {
   "cell_type": "code",
   "execution_count": 79,
   "id": "5e089306",
   "metadata": {},
   "outputs": [],
   "source": [
    "#droping space in price\n",
    "df['price'] = df['price'].astype('str')\n",
    "df['price'] = df['price'].str.replace(' ','')"
   ]
  },
  {
   "cell_type": "code",
   "execution_count": 80,
   "id": "a86db5c5",
   "metadata": {},
   "outputs": [
    {
     "data": {
      "text/plain": [
       "['$']"
      ]
     },
     "execution_count": 80,
     "metadata": {},
     "output_type": "execute_result"
    }
   ],
   "source": [
    "#checking for regular expression that it works or not\n",
    "re.findall(r\"\\D+\",\"61000$\")"
   ]
  },
  {
   "cell_type": "code",
   "execution_count": 81,
   "id": "4867eb91",
   "metadata": {},
   "outputs": [],
   "source": [
    "#creating currency column\n",
    "df['currency'] = df['price'].str.extract('(\\D+)')"
   ]
  },
  {
   "cell_type": "code",
   "execution_count": 82,
   "id": "b14702d7",
   "metadata": {},
   "outputs": [
    {
     "data": {
      "text/html": [
       "<div>\n",
       "<style scoped>\n",
       "    .dataframe tbody tr th:only-of-type {\n",
       "        vertical-align: middle;\n",
       "    }\n",
       "\n",
       "    .dataframe tbody tr th {\n",
       "        vertical-align: top;\n",
       "    }\n",
       "\n",
       "    .dataframe thead th {\n",
       "        text-align: right;\n",
       "    }\n",
       "</style>\n",
       "<table border=\"1\" class=\"dataframe\">\n",
       "  <thead>\n",
       "    <tr style=\"text-align: right;\">\n",
       "      <th></th>\n",
       "      <th>price</th>\n",
       "      <th>details</th>\n",
       "      <th>make</th>\n",
       "      <th>type</th>\n",
       "      <th>currency</th>\n",
       "    </tr>\n",
       "  </thead>\n",
       "  <tbody>\n",
       "    <tr>\n",
       "      <th>0</th>\n",
       "      <td>40000AZN</td>\n",
       "      <td>2022, 1.5 L, 0 km</td>\n",
       "      <td>Peugeot</td>\n",
       "      <td>Partner</td>\n",
       "      <td>AZN</td>\n",
       "    </tr>\n",
       "    <tr>\n",
       "      <th>1</th>\n",
       "      <td>9000AZN</td>\n",
       "      <td>2009, 1.4 L, 257 000 km</td>\n",
       "      <td>Opel</td>\n",
       "      <td>Astra</td>\n",
       "      <td>AZN</td>\n",
       "    </tr>\n",
       "    <tr>\n",
       "      <th>2</th>\n",
       "      <td>61000$</td>\n",
       "      <td>2014, 3.0 L, 150 000 km</td>\n",
       "      <td>Mercedes</td>\n",
       "      <td>S 350</td>\n",
       "      <td>$</td>\n",
       "    </tr>\n",
       "    <tr>\n",
       "      <th>3</th>\n",
       "      <td>45800AZN</td>\n",
       "      <td>2022, 1.4 L, 0 km</td>\n",
       "      <td>Fiat</td>\n",
       "      <td>Doblo</td>\n",
       "      <td>AZN</td>\n",
       "    </tr>\n",
       "    <tr>\n",
       "      <th>4</th>\n",
       "      <td>29900AZN</td>\n",
       "      <td>2014, 2.0 L, 215 000 km</td>\n",
       "      <td>Kia</td>\n",
       "      <td>Optima</td>\n",
       "      <td>AZN</td>\n",
       "    </tr>\n",
       "  </tbody>\n",
       "</table>\n",
       "</div>"
      ],
      "text/plain": [
       "      price                  details      make      type currency\n",
       "0  40000AZN        2022, 1.5 L, 0 km   Peugeot   Partner      AZN\n",
       "1   9000AZN  2009, 1.4 L, 257 000 km      Opel     Astra      AZN\n",
       "2    61000$  2014, 3.0 L, 150 000 km  Mercedes     S 350        $\n",
       "3  45800AZN        2022, 1.4 L, 0 km      Fiat     Doblo      AZN\n",
       "4  29900AZN  2014, 2.0 L, 215 000 km       Kia    Optima      AZN"
      ]
     },
     "execution_count": 82,
     "metadata": {},
     "output_type": "execute_result"
    }
   ],
   "source": [
    "df.head()"
   ]
  },
  {
   "cell_type": "code",
   "execution_count": 83,
   "id": "434544c8",
   "metadata": {},
   "outputs": [
    {
     "data": {
      "text/plain": [
       "['61000']"
      ]
     },
     "execution_count": 83,
     "metadata": {},
     "output_type": "execute_result"
    }
   ],
   "source": [
    "#checking for regular expression that it works or not\n",
    "re.findall(r\"\\d+\",\"61000$\")"
   ]
  },
  {
   "cell_type": "code",
   "execution_count": 84,
   "id": "28557cdc",
   "metadata": {},
   "outputs": [],
   "source": [
    "#changing price in numbers\n",
    "df['price'] = df['price'].str.extract('(\\d+)')"
   ]
  },
  {
   "cell_type": "code",
   "execution_count": 85,
   "id": "155669a6",
   "metadata": {},
   "outputs": [
    {
     "data": {
      "text/html": [
       "<div>\n",
       "<style scoped>\n",
       "    .dataframe tbody tr th:only-of-type {\n",
       "        vertical-align: middle;\n",
       "    }\n",
       "\n",
       "    .dataframe tbody tr th {\n",
       "        vertical-align: top;\n",
       "    }\n",
       "\n",
       "    .dataframe thead th {\n",
       "        text-align: right;\n",
       "    }\n",
       "</style>\n",
       "<table border=\"1\" class=\"dataframe\">\n",
       "  <thead>\n",
       "    <tr style=\"text-align: right;\">\n",
       "      <th></th>\n",
       "      <th>price</th>\n",
       "      <th>details</th>\n",
       "      <th>make</th>\n",
       "      <th>type</th>\n",
       "      <th>currency</th>\n",
       "    </tr>\n",
       "  </thead>\n",
       "  <tbody>\n",
       "    <tr>\n",
       "      <th>0</th>\n",
       "      <td>40000</td>\n",
       "      <td>2022, 1.5 L, 0 km</td>\n",
       "      <td>Peugeot</td>\n",
       "      <td>Partner</td>\n",
       "      <td>AZN</td>\n",
       "    </tr>\n",
       "    <tr>\n",
       "      <th>1</th>\n",
       "      <td>9000</td>\n",
       "      <td>2009, 1.4 L, 257 000 km</td>\n",
       "      <td>Opel</td>\n",
       "      <td>Astra</td>\n",
       "      <td>AZN</td>\n",
       "    </tr>\n",
       "    <tr>\n",
       "      <th>2</th>\n",
       "      <td>61000</td>\n",
       "      <td>2014, 3.0 L, 150 000 km</td>\n",
       "      <td>Mercedes</td>\n",
       "      <td>S 350</td>\n",
       "      <td>$</td>\n",
       "    </tr>\n",
       "    <tr>\n",
       "      <th>3</th>\n",
       "      <td>45800</td>\n",
       "      <td>2022, 1.4 L, 0 km</td>\n",
       "      <td>Fiat</td>\n",
       "      <td>Doblo</td>\n",
       "      <td>AZN</td>\n",
       "    </tr>\n",
       "    <tr>\n",
       "      <th>4</th>\n",
       "      <td>29900</td>\n",
       "      <td>2014, 2.0 L, 215 000 km</td>\n",
       "      <td>Kia</td>\n",
       "      <td>Optima</td>\n",
       "      <td>AZN</td>\n",
       "    </tr>\n",
       "  </tbody>\n",
       "</table>\n",
       "</div>"
      ],
      "text/plain": [
       "   price                  details      make      type currency\n",
       "0  40000        2022, 1.5 L, 0 km   Peugeot   Partner      AZN\n",
       "1   9000  2009, 1.4 L, 257 000 km      Opel     Astra      AZN\n",
       "2  61000  2014, 3.0 L, 150 000 km  Mercedes     S 350        $\n",
       "3  45800        2022, 1.4 L, 0 km      Fiat     Doblo      AZN\n",
       "4  29900  2014, 2.0 L, 215 000 km       Kia    Optima      AZN"
      ]
     },
     "execution_count": 85,
     "metadata": {},
     "output_type": "execute_result"
    }
   ],
   "source": [
    "df.head()"
   ]
  },
  {
   "cell_type": "code",
   "execution_count": 86,
   "id": "cbd6cfdd",
   "metadata": {},
   "outputs": [
    {
     "name": "stdout",
     "output_type": "stream",
     "text": [
      "<class 'pandas.core.frame.DataFrame'>\n",
      "RangeIndex: 14976 entries, 0 to 14975\n",
      "Data columns (total 5 columns):\n",
      " #   Column    Non-Null Count  Dtype \n",
      "---  ------    --------------  ----- \n",
      " 0   price     14976 non-null  object\n",
      " 1   details   14976 non-null  object\n",
      " 2   make      14976 non-null  object\n",
      " 3   type      14976 non-null  object\n",
      " 4   currency  14976 non-null  object\n",
      "dtypes: object(5)\n",
      "memory usage: 585.1+ KB\n"
     ]
    }
   ],
   "source": [
    "df.info()"
   ]
  },
  {
   "cell_type": "code",
   "execution_count": 87,
   "id": "8d12052b",
   "metadata": {},
   "outputs": [],
   "source": [
    "#changing dtype of price to the integer\n",
    "df['price'] = df['price'].astype('int')"
   ]
  },
  {
   "cell_type": "code",
   "execution_count": 88,
   "id": "5022ebcc",
   "metadata": {},
   "outputs": [
    {
     "name": "stdout",
     "output_type": "stream",
     "text": [
      "<class 'pandas.core.frame.DataFrame'>\n",
      "RangeIndex: 14976 entries, 0 to 14975\n",
      "Data columns (total 5 columns):\n",
      " #   Column    Non-Null Count  Dtype \n",
      "---  ------    --------------  ----- \n",
      " 0   price     14976 non-null  int64 \n",
      " 1   details   14976 non-null  object\n",
      " 2   make      14976 non-null  object\n",
      " 3   type      14976 non-null  object\n",
      " 4   currency  14976 non-null  object\n",
      "dtypes: int64(1), object(4)\n",
      "memory usage: 585.1+ KB\n"
     ]
    }
   ],
   "source": [
    "df.info()"
   ]
  },
  {
   "cell_type": "code",
   "execution_count": 89,
   "id": "ccb17805",
   "metadata": {},
   "outputs": [
    {
     "data": {
      "text/html": [
       "<div>\n",
       "<style scoped>\n",
       "    .dataframe tbody tr th:only-of-type {\n",
       "        vertical-align: middle;\n",
       "    }\n",
       "\n",
       "    .dataframe tbody tr th {\n",
       "        vertical-align: top;\n",
       "    }\n",
       "\n",
       "    .dataframe thead th {\n",
       "        text-align: right;\n",
       "    }\n",
       "</style>\n",
       "<table border=\"1\" class=\"dataframe\">\n",
       "  <thead>\n",
       "    <tr style=\"text-align: right;\">\n",
       "      <th></th>\n",
       "      <th>price</th>\n",
       "      <th>details</th>\n",
       "      <th>make</th>\n",
       "      <th>type</th>\n",
       "      <th>currency</th>\n",
       "    </tr>\n",
       "  </thead>\n",
       "  <tbody>\n",
       "    <tr>\n",
       "      <th>0</th>\n",
       "      <td>40000</td>\n",
       "      <td>2022, 1.5 L, 0 km</td>\n",
       "      <td>Peugeot</td>\n",
       "      <td>Partner</td>\n",
       "      <td>AZN</td>\n",
       "    </tr>\n",
       "    <tr>\n",
       "      <th>1</th>\n",
       "      <td>9000</td>\n",
       "      <td>2009, 1.4 L, 257 000 km</td>\n",
       "      <td>Opel</td>\n",
       "      <td>Astra</td>\n",
       "      <td>AZN</td>\n",
       "    </tr>\n",
       "    <tr>\n",
       "      <th>2</th>\n",
       "      <td>61000</td>\n",
       "      <td>2014, 3.0 L, 150 000 km</td>\n",
       "      <td>Mercedes</td>\n",
       "      <td>S 350</td>\n",
       "      <td>$</td>\n",
       "    </tr>\n",
       "    <tr>\n",
       "      <th>3</th>\n",
       "      <td>45800</td>\n",
       "      <td>2022, 1.4 L, 0 km</td>\n",
       "      <td>Fiat</td>\n",
       "      <td>Doblo</td>\n",
       "      <td>AZN</td>\n",
       "    </tr>\n",
       "    <tr>\n",
       "      <th>4</th>\n",
       "      <td>29900</td>\n",
       "      <td>2014, 2.0 L, 215 000 km</td>\n",
       "      <td>Kia</td>\n",
       "      <td>Optima</td>\n",
       "      <td>AZN</td>\n",
       "    </tr>\n",
       "  </tbody>\n",
       "</table>\n",
       "</div>"
      ],
      "text/plain": [
       "   price                  details      make      type currency\n",
       "0  40000        2022, 1.5 L, 0 km   Peugeot   Partner      AZN\n",
       "1   9000  2009, 1.4 L, 257 000 km      Opel     Astra      AZN\n",
       "2  61000  2014, 3.0 L, 150 000 km  Mercedes     S 350        $\n",
       "3  45800        2022, 1.4 L, 0 km      Fiat     Doblo      AZN\n",
       "4  29900  2014, 2.0 L, 215 000 km       Kia    Optima      AZN"
      ]
     },
     "execution_count": 89,
     "metadata": {},
     "output_type": "execute_result"
    }
   ],
   "source": [
    "df.head()"
   ]
  },
  {
   "cell_type": "code",
   "execution_count": 90,
   "id": "10b29559",
   "metadata": {},
   "outputs": [],
   "source": [
    "#replacing all spaces\n",
    "df['details'] = df['details'].str.replace(' ','')"
   ]
  },
  {
   "cell_type": "code",
   "execution_count": 91,
   "id": "99def737",
   "metadata": {},
   "outputs": [
    {
     "data": {
      "text/plain": [
       "['2022', ',', '1.4L', ',', '0km']"
      ]
     },
     "execution_count": 91,
     "metadata": {},
     "output_type": "execute_result"
    }
   ],
   "source": [
    "#checking for regular expression that it works or not\n",
    "re.split(r\"(,)\",\"2022,1.4L,0km\")"
   ]
  },
  {
   "cell_type": "code",
   "execution_count": 92,
   "id": "e220e0d2",
   "metadata": {},
   "outputs": [],
   "source": [
    "# creating empty column is named year to not get KeyError \n",
    "df['year'] = np.nan\n",
    "# filling year column \n",
    "for i,j in enumerate(df['details']):\n",
    "    df['year'][i] = re.split(r\"(,)\",j)[0]"
   ]
  },
  {
   "cell_type": "code",
   "execution_count": 93,
   "id": "7864ff1b",
   "metadata": {},
   "outputs": [
    {
     "data": {
      "text/html": [
       "<div>\n",
       "<style scoped>\n",
       "    .dataframe tbody tr th:only-of-type {\n",
       "        vertical-align: middle;\n",
       "    }\n",
       "\n",
       "    .dataframe tbody tr th {\n",
       "        vertical-align: top;\n",
       "    }\n",
       "\n",
       "    .dataframe thead th {\n",
       "        text-align: right;\n",
       "    }\n",
       "</style>\n",
       "<table border=\"1\" class=\"dataframe\">\n",
       "  <thead>\n",
       "    <tr style=\"text-align: right;\">\n",
       "      <th></th>\n",
       "      <th>price</th>\n",
       "      <th>details</th>\n",
       "      <th>make</th>\n",
       "      <th>type</th>\n",
       "      <th>currency</th>\n",
       "      <th>year</th>\n",
       "    </tr>\n",
       "  </thead>\n",
       "  <tbody>\n",
       "    <tr>\n",
       "      <th>0</th>\n",
       "      <td>40000</td>\n",
       "      <td>2022,1.5L,0km</td>\n",
       "      <td>Peugeot</td>\n",
       "      <td>Partner</td>\n",
       "      <td>AZN</td>\n",
       "      <td>2022</td>\n",
       "    </tr>\n",
       "    <tr>\n",
       "      <th>1</th>\n",
       "      <td>9000</td>\n",
       "      <td>2009,1.4L,257000km</td>\n",
       "      <td>Opel</td>\n",
       "      <td>Astra</td>\n",
       "      <td>AZN</td>\n",
       "      <td>2009</td>\n",
       "    </tr>\n",
       "    <tr>\n",
       "      <th>2</th>\n",
       "      <td>61000</td>\n",
       "      <td>2014,3.0L,150000km</td>\n",
       "      <td>Mercedes</td>\n",
       "      <td>S 350</td>\n",
       "      <td>$</td>\n",
       "      <td>2014</td>\n",
       "    </tr>\n",
       "    <tr>\n",
       "      <th>3</th>\n",
       "      <td>45800</td>\n",
       "      <td>2022,1.4L,0km</td>\n",
       "      <td>Fiat</td>\n",
       "      <td>Doblo</td>\n",
       "      <td>AZN</td>\n",
       "      <td>2022</td>\n",
       "    </tr>\n",
       "    <tr>\n",
       "      <th>4</th>\n",
       "      <td>29900</td>\n",
       "      <td>2014,2.0L,215000km</td>\n",
       "      <td>Kia</td>\n",
       "      <td>Optima</td>\n",
       "      <td>AZN</td>\n",
       "      <td>2014</td>\n",
       "    </tr>\n",
       "  </tbody>\n",
       "</table>\n",
       "</div>"
      ],
      "text/plain": [
       "   price             details      make      type currency  year\n",
       "0  40000       2022,1.5L,0km   Peugeot   Partner      AZN  2022\n",
       "1   9000  2009,1.4L,257000km      Opel     Astra      AZN  2009\n",
       "2  61000  2014,3.0L,150000km  Mercedes     S 350        $  2014\n",
       "3  45800       2022,1.4L,0km      Fiat     Doblo      AZN  2022\n",
       "4  29900  2014,2.0L,215000km       Kia    Optima      AZN  2014"
      ]
     },
     "execution_count": 93,
     "metadata": {},
     "output_type": "execute_result"
    }
   ],
   "source": [
    "df.head()"
   ]
  },
  {
   "cell_type": "code",
   "execution_count": 94,
   "id": "74e24e47",
   "metadata": {},
   "outputs": [],
   "source": [
    "# creating empty column is named year to not get KeyError \n",
    "df['engine'] = np.nan\n",
    "# filling year column \n",
    "for i,j in enumerate(df['details']):\n",
    "    df['engine'][i] = re.split(r\"(,)\",j)[2]"
   ]
  },
  {
   "cell_type": "code",
   "execution_count": 95,
   "id": "6e1992af",
   "metadata": {},
   "outputs": [
    {
     "data": {
      "text/html": [
       "<div>\n",
       "<style scoped>\n",
       "    .dataframe tbody tr th:only-of-type {\n",
       "        vertical-align: middle;\n",
       "    }\n",
       "\n",
       "    .dataframe tbody tr th {\n",
       "        vertical-align: top;\n",
       "    }\n",
       "\n",
       "    .dataframe thead th {\n",
       "        text-align: right;\n",
       "    }\n",
       "</style>\n",
       "<table border=\"1\" class=\"dataframe\">\n",
       "  <thead>\n",
       "    <tr style=\"text-align: right;\">\n",
       "      <th></th>\n",
       "      <th>price</th>\n",
       "      <th>details</th>\n",
       "      <th>make</th>\n",
       "      <th>type</th>\n",
       "      <th>currency</th>\n",
       "      <th>year</th>\n",
       "      <th>engine</th>\n",
       "    </tr>\n",
       "  </thead>\n",
       "  <tbody>\n",
       "    <tr>\n",
       "      <th>0</th>\n",
       "      <td>40000</td>\n",
       "      <td>2022,1.5L,0km</td>\n",
       "      <td>Peugeot</td>\n",
       "      <td>Partner</td>\n",
       "      <td>AZN</td>\n",
       "      <td>2022</td>\n",
       "      <td>1.5L</td>\n",
       "    </tr>\n",
       "    <tr>\n",
       "      <th>1</th>\n",
       "      <td>9000</td>\n",
       "      <td>2009,1.4L,257000km</td>\n",
       "      <td>Opel</td>\n",
       "      <td>Astra</td>\n",
       "      <td>AZN</td>\n",
       "      <td>2009</td>\n",
       "      <td>1.4L</td>\n",
       "    </tr>\n",
       "    <tr>\n",
       "      <th>2</th>\n",
       "      <td>61000</td>\n",
       "      <td>2014,3.0L,150000km</td>\n",
       "      <td>Mercedes</td>\n",
       "      <td>S 350</td>\n",
       "      <td>$</td>\n",
       "      <td>2014</td>\n",
       "      <td>3.0L</td>\n",
       "    </tr>\n",
       "    <tr>\n",
       "      <th>3</th>\n",
       "      <td>45800</td>\n",
       "      <td>2022,1.4L,0km</td>\n",
       "      <td>Fiat</td>\n",
       "      <td>Doblo</td>\n",
       "      <td>AZN</td>\n",
       "      <td>2022</td>\n",
       "      <td>1.4L</td>\n",
       "    </tr>\n",
       "    <tr>\n",
       "      <th>4</th>\n",
       "      <td>29900</td>\n",
       "      <td>2014,2.0L,215000km</td>\n",
       "      <td>Kia</td>\n",
       "      <td>Optima</td>\n",
       "      <td>AZN</td>\n",
       "      <td>2014</td>\n",
       "      <td>2.0L</td>\n",
       "    </tr>\n",
       "  </tbody>\n",
       "</table>\n",
       "</div>"
      ],
      "text/plain": [
       "   price             details      make      type currency  year engine\n",
       "0  40000       2022,1.5L,0km   Peugeot   Partner      AZN  2022   1.5L\n",
       "1   9000  2009,1.4L,257000km      Opel     Astra      AZN  2009   1.4L\n",
       "2  61000  2014,3.0L,150000km  Mercedes     S 350        $  2014   3.0L\n",
       "3  45800       2022,1.4L,0km      Fiat     Doblo      AZN  2022   1.4L\n",
       "4  29900  2014,2.0L,215000km       Kia    Optima      AZN  2014   2.0L"
      ]
     },
     "execution_count": 95,
     "metadata": {},
     "output_type": "execute_result"
    }
   ],
   "source": [
    "df.head()"
   ]
  },
  {
   "cell_type": "code",
   "execution_count": 96,
   "id": "f73e3c86",
   "metadata": {},
   "outputs": [
    {
     "data": {
      "text/plain": [
       "'0km'"
      ]
     },
     "execution_count": 96,
     "metadata": {},
     "output_type": "execute_result"
    }
   ],
   "source": [
    "#checking for regular expression that it works or not\n",
    "re.split(r\"(,)\",\"2022,1.4L,0km\")[4]"
   ]
  },
  {
   "cell_type": "code",
   "execution_count": 97,
   "id": "1d8df16e",
   "metadata": {},
   "outputs": [],
   "source": [
    "# creating empty column is named year to not get KeyError \n",
    "df['mileage'] = np.nan\n",
    "# filling year column \n",
    "for i,j in enumerate(df['details']):\n",
    "    df['mileage'][i] = re.split(r\"(,)\",j)[4]"
   ]
  },
  {
   "cell_type": "code",
   "execution_count": 98,
   "id": "bb989448",
   "metadata": {},
   "outputs": [
    {
     "data": {
      "text/html": [
       "<div>\n",
       "<style scoped>\n",
       "    .dataframe tbody tr th:only-of-type {\n",
       "        vertical-align: middle;\n",
       "    }\n",
       "\n",
       "    .dataframe tbody tr th {\n",
       "        vertical-align: top;\n",
       "    }\n",
       "\n",
       "    .dataframe thead th {\n",
       "        text-align: right;\n",
       "    }\n",
       "</style>\n",
       "<table border=\"1\" class=\"dataframe\">\n",
       "  <thead>\n",
       "    <tr style=\"text-align: right;\">\n",
       "      <th></th>\n",
       "      <th>price</th>\n",
       "      <th>details</th>\n",
       "      <th>make</th>\n",
       "      <th>type</th>\n",
       "      <th>currency</th>\n",
       "      <th>year</th>\n",
       "      <th>engine</th>\n",
       "      <th>mileage</th>\n",
       "    </tr>\n",
       "  </thead>\n",
       "  <tbody>\n",
       "    <tr>\n",
       "      <th>0</th>\n",
       "      <td>40000</td>\n",
       "      <td>2022,1.5L,0km</td>\n",
       "      <td>Peugeot</td>\n",
       "      <td>Partner</td>\n",
       "      <td>AZN</td>\n",
       "      <td>2022</td>\n",
       "      <td>1.5L</td>\n",
       "      <td>0km</td>\n",
       "    </tr>\n",
       "    <tr>\n",
       "      <th>1</th>\n",
       "      <td>9000</td>\n",
       "      <td>2009,1.4L,257000km</td>\n",
       "      <td>Opel</td>\n",
       "      <td>Astra</td>\n",
       "      <td>AZN</td>\n",
       "      <td>2009</td>\n",
       "      <td>1.4L</td>\n",
       "      <td>257000km</td>\n",
       "    </tr>\n",
       "    <tr>\n",
       "      <th>2</th>\n",
       "      <td>61000</td>\n",
       "      <td>2014,3.0L,150000km</td>\n",
       "      <td>Mercedes</td>\n",
       "      <td>S 350</td>\n",
       "      <td>$</td>\n",
       "      <td>2014</td>\n",
       "      <td>3.0L</td>\n",
       "      <td>150000km</td>\n",
       "    </tr>\n",
       "    <tr>\n",
       "      <th>3</th>\n",
       "      <td>45800</td>\n",
       "      <td>2022,1.4L,0km</td>\n",
       "      <td>Fiat</td>\n",
       "      <td>Doblo</td>\n",
       "      <td>AZN</td>\n",
       "      <td>2022</td>\n",
       "      <td>1.4L</td>\n",
       "      <td>0km</td>\n",
       "    </tr>\n",
       "    <tr>\n",
       "      <th>4</th>\n",
       "      <td>29900</td>\n",
       "      <td>2014,2.0L,215000km</td>\n",
       "      <td>Kia</td>\n",
       "      <td>Optima</td>\n",
       "      <td>AZN</td>\n",
       "      <td>2014</td>\n",
       "      <td>2.0L</td>\n",
       "      <td>215000km</td>\n",
       "    </tr>\n",
       "  </tbody>\n",
       "</table>\n",
       "</div>"
      ],
      "text/plain": [
       "   price             details      make      type currency  year engine  \\\n",
       "0  40000       2022,1.5L,0km   Peugeot   Partner      AZN  2022   1.5L   \n",
       "1   9000  2009,1.4L,257000km      Opel     Astra      AZN  2009   1.4L   \n",
       "2  61000  2014,3.0L,150000km  Mercedes     S 350        $  2014   3.0L   \n",
       "3  45800       2022,1.4L,0km      Fiat     Doblo      AZN  2022   1.4L   \n",
       "4  29900  2014,2.0L,215000km       Kia    Optima      AZN  2014   2.0L   \n",
       "\n",
       "    mileage  \n",
       "0       0km  \n",
       "1  257000km  \n",
       "2  150000km  \n",
       "3       0km  \n",
       "4  215000km  "
      ]
     },
     "execution_count": 98,
     "metadata": {},
     "output_type": "execute_result"
    }
   ],
   "source": [
    "df.head()"
   ]
  },
  {
   "cell_type": "code",
   "execution_count": 100,
   "id": "75b899be",
   "metadata": {},
   "outputs": [],
   "source": [
    "#deleting details column\n",
    "df.drop('details', axis=1, inplace=True)"
   ]
  },
  {
   "cell_type": "code",
   "execution_count": 104,
   "id": "f978195a",
   "metadata": {},
   "outputs": [],
   "source": [
    "#creating empty column named price_in_azn\n",
    "df['price_in_azn'] = np.nan\n",
    "#we have to currency like AZN and USD so,let's get change the all prices in azn\n",
    "for i,j in enumerate(df['price']):\n",
    "    if df['currency'][i] == 'AZN':\n",
    "        df['price_in_azn'][i] = j\n",
    "    else:\n",
    "        df['price_in_azn'][i] = j * 1.7"
   ]
  },
  {
   "cell_type": "code",
   "execution_count": 107,
   "id": "f63b2210",
   "metadata": {},
   "outputs": [],
   "source": [
    "#deleting price and currency,we don't neet them because of the price_in_azn\n",
    "df.drop(['price','currency'], axis=1, inplace=True)"
   ]
  },
  {
   "cell_type": "code",
   "execution_count": 108,
   "id": "6521fc04",
   "metadata": {},
   "outputs": [
    {
     "data": {
      "text/html": [
       "<div>\n",
       "<style scoped>\n",
       "    .dataframe tbody tr th:only-of-type {\n",
       "        vertical-align: middle;\n",
       "    }\n",
       "\n",
       "    .dataframe tbody tr th {\n",
       "        vertical-align: top;\n",
       "    }\n",
       "\n",
       "    .dataframe thead th {\n",
       "        text-align: right;\n",
       "    }\n",
       "</style>\n",
       "<table border=\"1\" class=\"dataframe\">\n",
       "  <thead>\n",
       "    <tr style=\"text-align: right;\">\n",
       "      <th></th>\n",
       "      <th>make</th>\n",
       "      <th>type</th>\n",
       "      <th>year</th>\n",
       "      <th>engine</th>\n",
       "      <th>mileage</th>\n",
       "      <th>price_in_azn</th>\n",
       "    </tr>\n",
       "  </thead>\n",
       "  <tbody>\n",
       "    <tr>\n",
       "      <th>0</th>\n",
       "      <td>Peugeot</td>\n",
       "      <td>Partner</td>\n",
       "      <td>2022</td>\n",
       "      <td>1.5L</td>\n",
       "      <td>0km</td>\n",
       "      <td>40000.0</td>\n",
       "    </tr>\n",
       "    <tr>\n",
       "      <th>1</th>\n",
       "      <td>Opel</td>\n",
       "      <td>Astra</td>\n",
       "      <td>2009</td>\n",
       "      <td>1.4L</td>\n",
       "      <td>257000km</td>\n",
       "      <td>9000.0</td>\n",
       "    </tr>\n",
       "    <tr>\n",
       "      <th>2</th>\n",
       "      <td>Mercedes</td>\n",
       "      <td>S 350</td>\n",
       "      <td>2014</td>\n",
       "      <td>3.0L</td>\n",
       "      <td>150000km</td>\n",
       "      <td>103700.0</td>\n",
       "    </tr>\n",
       "    <tr>\n",
       "      <th>3</th>\n",
       "      <td>Fiat</td>\n",
       "      <td>Doblo</td>\n",
       "      <td>2022</td>\n",
       "      <td>1.4L</td>\n",
       "      <td>0km</td>\n",
       "      <td>45800.0</td>\n",
       "    </tr>\n",
       "    <tr>\n",
       "      <th>4</th>\n",
       "      <td>Kia</td>\n",
       "      <td>Optima</td>\n",
       "      <td>2014</td>\n",
       "      <td>2.0L</td>\n",
       "      <td>215000km</td>\n",
       "      <td>29900.0</td>\n",
       "    </tr>\n",
       "  </tbody>\n",
       "</table>\n",
       "</div>"
      ],
      "text/plain": [
       "       make      type  year engine   mileage  price_in_azn\n",
       "0   Peugeot   Partner  2022   1.5L       0km       40000.0\n",
       "1      Opel     Astra  2009   1.4L  257000km        9000.0\n",
       "2  Mercedes     S 350  2014   3.0L  150000km      103700.0\n",
       "3      Fiat     Doblo  2022   1.4L       0km       45800.0\n",
       "4       Kia    Optima  2014   2.0L  215000km       29900.0"
      ]
     },
     "execution_count": 108,
     "metadata": {},
     "output_type": "execute_result"
    }
   ],
   "source": [
    "df.head()"
   ]
  },
  {
   "cell_type": "code",
   "execution_count": 112,
   "id": "57db6839",
   "metadata": {},
   "outputs": [],
   "source": [
    "#replace all L from engine \n",
    "df['engine'] = df['engine'].str.replace('L','')"
   ]
  },
  {
   "cell_type": "code",
   "execution_count": 128,
   "id": "3c41de3c",
   "metadata": {},
   "outputs": [
    {
     "data": {
      "text/plain": [
       "['km']"
      ]
     },
     "execution_count": 128,
     "metadata": {},
     "output_type": "execute_result"
    }
   ],
   "source": [
    "#checking for regular expression that it works or not\n",
    "re.findall(r\"\\D+\",\"0km\")"
   ]
  },
  {
   "cell_type": "code",
   "execution_count": 133,
   "id": "fbbebe9c",
   "metadata": {},
   "outputs": [],
   "source": [
    "df['mileage_type'] = df['mileage'].str.extract('(\\D+)')"
   ]
  },
  {
   "cell_type": "code",
   "execution_count": 136,
   "id": "7c8974ea",
   "metadata": {},
   "outputs": [
    {
     "data": {
      "text/plain": [
       "km    14976\n",
       "Name: mileage_type, dtype: int64"
      ]
     },
     "execution_count": 136,
     "metadata": {},
     "output_type": "execute_result"
    }
   ],
   "source": [
    "df['mileage_type'].value_counts()\n",
    "#all milages in km's so,there is no any need to calculate something to the mile or km,\n",
    "#let's just get numbers from mileage"
   ]
  },
  {
   "cell_type": "code",
   "execution_count": 141,
   "id": "bb309b0a",
   "metadata": {},
   "outputs": [],
   "source": [
    "df.drop('mileage_type', axis=1, inplace=True)"
   ]
  },
  {
   "cell_type": "code",
   "execution_count": 137,
   "id": "acc429d9",
   "metadata": {},
   "outputs": [],
   "source": [
    "df['mileage'] = df['mileage'].str.extract('(\\d+)')"
   ]
  },
  {
   "cell_type": "code",
   "execution_count": 143,
   "id": "9a9b6ea7",
   "metadata": {},
   "outputs": [],
   "source": [
    "#change some columns to the another dtypes\n",
    "df['engine'] = df['engine'].astype('float')\n",
    "df['mileage'] = df['mileage'].astype('float')\n",
    "df['year'] = df['year'].astype('int')"
   ]
  },
  {
   "cell_type": "code",
   "execution_count": 144,
   "id": "227d0cd3",
   "metadata": {},
   "outputs": [
    {
     "name": "stdout",
     "output_type": "stream",
     "text": [
      "<class 'pandas.core.frame.DataFrame'>\n",
      "RangeIndex: 14976 entries, 0 to 14975\n",
      "Data columns (total 6 columns):\n",
      " #   Column        Non-Null Count  Dtype  \n",
      "---  ------        --------------  -----  \n",
      " 0   make          14976 non-null  object \n",
      " 1   type          14976 non-null  object \n",
      " 2   year          14976 non-null  int64  \n",
      " 3   engine        14976 non-null  float64\n",
      " 4   mileage       14976 non-null  float64\n",
      " 5   price_in_azn  14976 non-null  float64\n",
      "dtypes: float64(3), int64(1), object(2)\n",
      "memory usage: 702.1+ KB\n"
     ]
    }
   ],
   "source": [
    "df.info()"
   ]
  },
  {
   "cell_type": "code",
   "execution_count": 145,
   "id": "7591c22b",
   "metadata": {},
   "outputs": [
    {
     "data": {
      "text/html": [
       "<div>\n",
       "<style scoped>\n",
       "    .dataframe tbody tr th:only-of-type {\n",
       "        vertical-align: middle;\n",
       "    }\n",
       "\n",
       "    .dataframe tbody tr th {\n",
       "        vertical-align: top;\n",
       "    }\n",
       "\n",
       "    .dataframe thead th {\n",
       "        text-align: right;\n",
       "    }\n",
       "</style>\n",
       "<table border=\"1\" class=\"dataframe\">\n",
       "  <thead>\n",
       "    <tr style=\"text-align: right;\">\n",
       "      <th></th>\n",
       "      <th>make</th>\n",
       "      <th>type</th>\n",
       "      <th>year</th>\n",
       "      <th>engine</th>\n",
       "      <th>mileage</th>\n",
       "      <th>price_in_azn</th>\n",
       "    </tr>\n",
       "  </thead>\n",
       "  <tbody>\n",
       "    <tr>\n",
       "      <th>0</th>\n",
       "      <td>Peugeot</td>\n",
       "      <td>Partner</td>\n",
       "      <td>2022</td>\n",
       "      <td>1.5</td>\n",
       "      <td>0.0</td>\n",
       "      <td>40000.0</td>\n",
       "    </tr>\n",
       "    <tr>\n",
       "      <th>1</th>\n",
       "      <td>Opel</td>\n",
       "      <td>Astra</td>\n",
       "      <td>2009</td>\n",
       "      <td>1.4</td>\n",
       "      <td>257000.0</td>\n",
       "      <td>9000.0</td>\n",
       "    </tr>\n",
       "    <tr>\n",
       "      <th>2</th>\n",
       "      <td>Mercedes</td>\n",
       "      <td>S 350</td>\n",
       "      <td>2014</td>\n",
       "      <td>3.0</td>\n",
       "      <td>150000.0</td>\n",
       "      <td>103700.0</td>\n",
       "    </tr>\n",
       "    <tr>\n",
       "      <th>3</th>\n",
       "      <td>Fiat</td>\n",
       "      <td>Doblo</td>\n",
       "      <td>2022</td>\n",
       "      <td>1.4</td>\n",
       "      <td>0.0</td>\n",
       "      <td>45800.0</td>\n",
       "    </tr>\n",
       "    <tr>\n",
       "      <th>4</th>\n",
       "      <td>Kia</td>\n",
       "      <td>Optima</td>\n",
       "      <td>2014</td>\n",
       "      <td>2.0</td>\n",
       "      <td>215000.0</td>\n",
       "      <td>29900.0</td>\n",
       "    </tr>\n",
       "  </tbody>\n",
       "</table>\n",
       "</div>"
      ],
      "text/plain": [
       "       make      type  year  engine   mileage  price_in_azn\n",
       "0   Peugeot   Partner  2022     1.5       0.0       40000.0\n",
       "1      Opel     Astra  2009     1.4  257000.0        9000.0\n",
       "2  Mercedes     S 350  2014     3.0  150000.0      103700.0\n",
       "3      Fiat     Doblo  2022     1.4       0.0       45800.0\n",
       "4       Kia    Optima  2014     2.0  215000.0       29900.0"
      ]
     },
     "execution_count": 145,
     "metadata": {},
     "output_type": "execute_result"
    }
   ],
   "source": [
    "df.head()"
   ]
  },
  {
   "cell_type": "code",
   "execution_count": 146,
   "id": "edbe9bc4",
   "metadata": {},
   "outputs": [],
   "source": [
    "df.to_csv('final_data.csv')"
   ]
  },
  {
   "cell_type": "code",
   "execution_count": null,
   "id": "eefb71f8",
   "metadata": {},
   "outputs": [],
   "source": []
  }
 ],
 "metadata": {
  "kernelspec": {
   "display_name": "Python 3 (ipykernel)",
   "language": "python",
   "name": "python3"
  },
  "language_info": {
   "codemirror_mode": {
    "name": "ipython",
    "version": 3
   },
   "file_extension": ".py",
   "mimetype": "text/x-python",
   "name": "python",
   "nbconvert_exporter": "python",
   "pygments_lexer": "ipython3",
   "version": "3.10.8"
  }
 },
 "nbformat": 4,
 "nbformat_minor": 5
}
